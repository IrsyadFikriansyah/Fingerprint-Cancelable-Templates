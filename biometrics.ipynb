{
 "cells": [
  {
   "cell_type": "markdown",
   "metadata": {},
   "source": [
    "# Testing TPR"
   ]
  },
  {
   "cell_type": "code",
   "execution_count": 1,
   "metadata": {},
   "outputs": [
    {
     "name": "stdout",
     "output_type": "stream",
     "text": [
      "TESTING TPR\n",
      "matched: 98\n",
      "not matched: 2\n"
     ]
    }
   ],
   "source": [
    "from Classes.KeyCollection import KeyCollection\n",
    "from Classes.MinutiaCollection import MinutiaCollection\n",
    "from Classes.Constant import PATH\n",
    "from Classes.Utils import Utils\n",
    "\n",
    "mykeys = KeyCollection()\n",
    "\n",
    "count_match = 0\n",
    "count = 0\n",
    "for j in range(1, 101):\n",
    "    file_name1 = f'{j}_1.tif.txt'\n",
    "    file_path1 = f'{PATH}{file_name1}'\n",
    "\n",
    "    file_name2 = f'{j}_2.tif.txt'\n",
    "    file_path2 = f'{PATH}{file_name2}'\n",
    "\n",
    "    minutiae1, minutiae2 = MinutiaCollection(), MinutiaCollection()\n",
    "\n",
    "    minutiae1.make_template(file_path1, mykeys)\n",
    "    minutiae2.make_template(file_path2, mykeys)\n",
    "    is_match = Utils.compare(minutiae1.templates, minutiae2.templates)\n",
    "    if is_match == True:\n",
    "        count_match += 1\n",
    "    count += 1\n",
    "print('TESTING TPR')\n",
    "print(f'matched: {count_match}')\n",
    "print(f'not matched: {count - count_match}')"
   ]
  },
  {
   "cell_type": "markdown",
   "metadata": {},
   "source": [
    "# Testing FPR"
   ]
  },
  {
   "cell_type": "code",
   "execution_count": 2,
   "metadata": {},
   "outputs": [
    {
     "ename": "KeyboardInterrupt",
     "evalue": "",
     "output_type": "error",
     "traceback": [
      "\u001b[0;31m---------------------------------------------------------------------------\u001b[0m",
      "\u001b[0;31mKeyboardInterrupt\u001b[0m                         Traceback (most recent call last)",
      "\u001b[1;32m/Users/irsyadfikriansyah/Documents/College/SMES 5/Smes5 etc./Penelitian/Biometrics/Codes/biometrics.ipynb Cell 2\u001b[0m line \u001b[0;36m2\n\u001b[1;32m     <a href='vscode-notebook-cell:/Users/irsyadfikriansyah/Documents/College/SMES%205/Smes5%20etc./Penelitian/Biometrics/Codes/biometrics.ipynb#W1sZmlsZQ%3D%3D?line=21'>22</a>\u001b[0m minutiae1\u001b[39m.\u001b[39mmake_template(file_path1, mykeys)\n\u001b[1;32m     <a href='vscode-notebook-cell:/Users/irsyadfikriansyah/Documents/College/SMES%205/Smes5%20etc./Penelitian/Biometrics/Codes/biometrics.ipynb#W1sZmlsZQ%3D%3D?line=22'>23</a>\u001b[0m minutiae2\u001b[39m.\u001b[39mmake_template(file_path2, mykeys)\n\u001b[0;32m---> <a href='vscode-notebook-cell:/Users/irsyadfikriansyah/Documents/College/SMES%205/Smes5%20etc./Penelitian/Biometrics/Codes/biometrics.ipynb#W1sZmlsZQ%3D%3D?line=23'>24</a>\u001b[0m is_match \u001b[39m=\u001b[39m Utils\u001b[39m.\u001b[39;49mcompare(minutiae1\u001b[39m.\u001b[39;49mtemplates, minutiae2\u001b[39m.\u001b[39;49mtemplates)\n\u001b[1;32m     <a href='vscode-notebook-cell:/Users/irsyadfikriansyah/Documents/College/SMES%205/Smes5%20etc./Penelitian/Biometrics/Codes/biometrics.ipynb#W1sZmlsZQ%3D%3D?line=24'>25</a>\u001b[0m \u001b[39mif\u001b[39;00m is_match \u001b[39m==\u001b[39m \u001b[39mTrue\u001b[39;00m:\n\u001b[1;32m     <a href='vscode-notebook-cell:/Users/irsyadfikriansyah/Documents/College/SMES%205/Smes5%20etc./Penelitian/Biometrics/Codes/biometrics.ipynb#W1sZmlsZQ%3D%3D?line=25'>26</a>\u001b[0m     count_match \u001b[39m+\u001b[39m\u001b[39m=\u001b[39m \u001b[39m1\u001b[39m\n",
      "File \u001b[0;32m~/Documents/College/SMES 5/Smes5 etc./Penelitian/Biometrics/Codes/Classes/Utils.py:117\u001b[0m, in \u001b[0;36mUtils.compare\u001b[0;34m(templates1, templates2)\u001b[0m\n\u001b[1;32m    115\u001b[0m delta_r \u001b[39m=\u001b[39m Helper\u001b[39m.\u001b[39mget_delta_r(neighbor1[\u001b[39m1\u001b[39m], neighbor2[\u001b[39m1\u001b[39m])\n\u001b[1;32m    116\u001b[0m delta_a \u001b[39m=\u001b[39m Helper\u001b[39m.\u001b[39mget_delta_a(neighbor1[\u001b[39m2\u001b[39m], neighbor2[\u001b[39m2\u001b[39m])\n\u001b[0;32m--> 117\u001b[0m delta_b \u001b[39m=\u001b[39m Helper\u001b[39m.\u001b[39;49mget_delta_b(neighbor1[\u001b[39m3\u001b[39;49m], neighbor2[\u001b[39m3\u001b[39;49m])\n\u001b[1;32m    118\u001b[0m \u001b[39mif\u001b[39;00m delta_r \u001b[39m>\u001b[39m T_R \u001b[39mor\u001b[39;00m delta_a \u001b[39m>\u001b[39m T_A \u001b[39mor\u001b[39;00m delta_b \u001b[39m>\u001b[39m T_B:\n\u001b[1;32m    119\u001b[0m     \u001b[39mcontinue\u001b[39;00m\n",
      "File \u001b[0;32m~/Documents/College/SMES 5/Smes5 etc./Penelitian/Biometrics/Codes/Classes/Utils.py:18\u001b[0m, in \u001b[0;36mHelper.get_delta_b\u001b[0;34m(bi, bj)\u001b[0m\n\u001b[1;32m     16\u001b[0m \u001b[39mdef\u001b[39;00m \u001b[39mget_delta_b\u001b[39m(bi, bj) \u001b[39m-\u001b[39m\u001b[39m>\u001b[39m \u001b[39mfloat\u001b[39m:\n\u001b[1;32m     17\u001b[0m     bi \u001b[39m=\u001b[39m Utils\u001b[39m.\u001b[39mrad2deg(bi)\n\u001b[0;32m---> 18\u001b[0m     bj \u001b[39m=\u001b[39m Utils\u001b[39m.\u001b[39;49mrad2deg(bj)\n\u001b[1;32m     19\u001b[0m     result \u001b[39m=\u001b[39m \u001b[39mmin\u001b[39m(\u001b[39mabs\u001b[39m(bi \u001b[39m-\u001b[39m bj), \u001b[39m360\u001b[39m \u001b[39m-\u001b[39m \u001b[39mabs\u001b[39m(bi \u001b[39m-\u001b[39m bj)) \u001b[39m/\u001b[39m \u001b[39m360\u001b[39m \u001b[39m*\u001b[39m \u001b[39m100\u001b[39m\n\u001b[1;32m     20\u001b[0m     \u001b[39mreturn\u001b[39;00m result\n",
      "File \u001b[0;32m~/Documents/College/SMES 5/Smes5 etc./Penelitian/Biometrics/Codes/Classes/Utils.py:36\u001b[0m, in \u001b[0;36mUtils.rad2deg\u001b[0;34m(rad)\u001b[0m\n\u001b[1;32m     33\u001b[0m     distance \u001b[39m=\u001b[39m np\u001b[39m.\u001b[39msqrt((x1 \u001b[39m-\u001b[39m x2) \u001b[39m*\u001b[39m\u001b[39m*\u001b[39m \u001b[39m2\u001b[39m \u001b[39m+\u001b[39m (y1 \u001b[39m-\u001b[39m y2) \u001b[39m*\u001b[39m\u001b[39m*\u001b[39m \u001b[39m2\u001b[39m)\n\u001b[1;32m     34\u001b[0m     \u001b[39mreturn\u001b[39;00m distance\n\u001b[0;32m---> 36\u001b[0m \u001b[39mdef\u001b[39;00m \u001b[39mrad2deg\u001b[39m(rad) \u001b[39m-\u001b[39m\u001b[39m>\u001b[39m \u001b[39mfloat\u001b[39m:\n\u001b[1;32m     37\u001b[0m     deg \u001b[39m=\u001b[39m rad \u001b[39m*\u001b[39m \u001b[39m180\u001b[39m \u001b[39m/\u001b[39m np\u001b[39m.\u001b[39mpi\n\u001b[1;32m     38\u001b[0m     \u001b[39mif\u001b[39;00m deg \u001b[39m<\u001b[39m \u001b[39m0\u001b[39m:\n",
      "\u001b[0;31mKeyboardInterrupt\u001b[0m: "
     ]
    }
   ],
   "source": [
    "from Classes.KeyCollection import KeyCollection\n",
    "from Classes.MinutiaCollection import MinutiaCollection\n",
    "from Classes.Constant import PATH\n",
    "from Classes.Utils import Utils\n",
    "\n",
    "mykeys = KeyCollection()\n",
    "\n",
    "count_match = 0\n",
    "count = 0\n",
    "for i in range(1, 101):\n",
    "    for j in range(1, 101):\n",
    "        if i == j: \n",
    "            continue\n",
    "        file_name1 = f'{j}_1.tif.txt'\n",
    "        file_path1 = f'{PATH}{file_name1}'\n",
    "\n",
    "        file_name2 = f'{j}_2.tif.txt'\n",
    "        file_path2 = f'{PATH}{file_name2}'\n",
    "\n",
    "        minutiae1, minutiae2 = MinutiaCollection(), MinutiaCollection()\n",
    "\n",
    "        minutiae1.make_template(file_path1, mykeys)\n",
    "        minutiae2.make_template(file_path2, mykeys)\n",
    "        is_match = Utils.compare(minutiae1.templates, minutiae2.templates)\n",
    "        if is_match == True:\n",
    "            count_match += 1\n",
    "        count += 1\n",
    "print('TESTING FPR')\n",
    "print(f'matched: {count_match}')\n",
    "print(f'not matched: {count - count_match}')"
   ]
  }
 ],
 "metadata": {
  "kernelspec": {
   "display_name": "Python 3",
   "language": "python",
   "name": "python3"
  },
  "language_info": {
   "codemirror_mode": {
    "name": "ipython",
    "version": 3
   },
   "file_extension": ".py",
   "mimetype": "text/x-python",
   "name": "python",
   "nbconvert_exporter": "python",
   "pygments_lexer": "ipython3",
   "version": "3.11.6"
  }
 },
 "nbformat": 4,
 "nbformat_minor": 2
}
