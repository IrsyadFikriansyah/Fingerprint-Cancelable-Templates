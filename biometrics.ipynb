{
 "cells": [
  {
   "cell_type": "code",
   "execution_count": null,
   "metadata": {},
   "outputs": [],
   "source": [
    "from Classes.KeyCollection import KeyCollection\n",
    "from Classes.MinutiaCollection import MinutiaCollection\n",
    "from Classes.Constant import PATH\n",
    "from Classes.Draw import Draw\n",
    "\n",
    "file_name = '1_1.tif.txt'\n",
    "file_path = f'{PATH}{file_name}'\n",
    "\n",
    "mykeys = KeyCollection()\n",
    "minutiae = MinutiaCollection()\n",
    "\n",
    "minutiae.make_template(file_path, mykeys)\n",
    "\n",
    "Draw.point_selection(file_name, minutiae)"
   ]
  }
 ],
 "metadata": {
  "language_info": {
   "name": "python"
  }
 },
 "nbformat": 4,
 "nbformat_minor": 2
}
