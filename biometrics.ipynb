{
 "cells": [
  {
   "cell_type": "code",
   "execution_count": 1,
   "metadata": {},
   "outputs": [
    {
     "name": "stdout",
     "output_type": "stream",
     "text": [
      "jumlah match: 35\n",
      "jumlah not match: 65\n"
     ]
    }
   ],
   "source": [
    "from Classes.KeyCollection import KeyCollection\n",
    "from Classes.MinutiaCollection import MinutiaCollection\n",
    "from Classes.Constant import PATH\n",
    "from Classes.Utils import Utils\n",
    "\n",
    "file_name1 = '1_1.tif.txt'\n",
    "file_path1 = f'{PATH}{file_name1}'\n",
    "\n",
    "mykeys = KeyCollection()\n",
    "\n",
    "count_match = 0\n",
    "count = 0\n",
    "# for i in range(1, 101):\n",
    "for j in range(1, 101):\n",
    "    file_name2 = f'{j}_1.tif.txt'\n",
    "    file_path2 = f'{PATH}{file_name2}'\n",
    "\n",
    "    minutiae1, minutiae2 = MinutiaCollection(), MinutiaCollection()\n",
    "\n",
    "    minutiae1.make_template(file_path1, mykeys)\n",
    "    minutiae2.make_template(file_path2, mykeys)\n",
    "    is_match = Utils.compare(minutiae1.templates, minutiae2.templates)\n",
    "    if is_match == True:\n",
    "        count_match += 1\n",
    "    count += 1\n",
    "print(f'jumlah match: {count_match}')\n",
    "print(f'jumlah not match: {count - count_match}')"
   ]
  }
 ],
 "metadata": {
  "kernelspec": {
   "display_name": "Python 3",
   "language": "python",
   "name": "python3"
  },
  "language_info": {
   "codemirror_mode": {
    "name": "ipython",
    "version": 3
   },
   "file_extension": ".py",
   "mimetype": "text/x-python",
   "name": "python",
   "nbconvert_exporter": "python",
   "pygments_lexer": "ipython3",
   "version": "3.11.6"
  }
 },
 "nbformat": 4,
 "nbformat_minor": 2
}
